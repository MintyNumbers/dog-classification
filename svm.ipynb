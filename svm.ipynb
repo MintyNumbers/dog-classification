{
 "cells": [
  {
   "cell_type": "markdown",
   "id": "c459291fc287ee3d",
   "metadata": {},
   "source": [
    "# Klassifikation von Hunderassen mit SVMs"
   ]
  },
  {
   "metadata": {
    "ExecuteTime": {
     "end_time": "2024-12-10T11:38:05.833542Z",
     "start_time": "2024-12-10T11:38:05.808636Z"
    }
   },
   "cell_type": "code",
   "source": [
    "from importlib import reload\n",
    "import helpers\n",
    "\n",
    "reload(helpers.split)\n",
    "\n",
    "helpers.split.train_test_split()\n",
    "print(\"\\n\\n --- All Done ---\")"
   ],
   "id": "514d25d84931a1fa",
   "outputs": [
    {
     "name": "stdout",
     "output_type": "stream",
     "text": [
      "\n",
      "\n",
      " --- All Done ---\n"
     ]
    }
   ],
   "execution_count": 1
  },
  {
   "metadata": {},
   "cell_type": "markdown",
   "source": [
    "## Erkennung von Merkmalen\n",
    "\n",
    "- Kopfform (Hough-Transformation)\n",
    "- Form der Ohren (rund/spitz) (Hough-Transformation)\n",
    "- Fell oder kein Fell (Kantenerkennung - Canny)\n",
    "- Augen und Augenabstand (als Maß für andere Dinge, s. SIFT): Hough-Transformation und Mittelpunktsabstand\n",
    "- Auf Basis des Augenabstands: Größe des Kopfes/des ganzen Hundes (???)\n",
    "- Farben und Fellmuster (RGB-Histogramme)\n",
    "- Schwanzlänge und Form (Hough-Transformation)\n",
    "- Körperform (Hough)"
   ],
   "id": "32664937fc558faf"
  },
  {
   "metadata": {},
   "cell_type": "code",
   "outputs": [],
   "execution_count": null,
   "source": "",
   "id": "4ac29e3c082bd188"
  }
 ],
 "metadata": {
  "kernelspec": {
   "display_name": "dog-classification",
   "language": "python",
   "name": "python3"
  },
  "language_info": {
   "codemirror_mode": {
    "name": "ipython",
    "version": 3
   },
   "file_extension": ".py",
   "mimetype": "text/x-python",
   "name": "python",
   "nbconvert_exporter": "python",
   "pygments_lexer": "ipython3",
   "version": "3.12.7"
  }
 },
 "nbformat": 4,
 "nbformat_minor": 5
}
