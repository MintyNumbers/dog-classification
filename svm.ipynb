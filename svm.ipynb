{
 "cells": [
  {
   "cell_type": "markdown",
   "id": "c459291fc287ee3d",
   "metadata": {},
   "source": [
    "# Klassifikation von Hunderassen mit SVMs\n",
    "Dieses Notebook nutzt zur Klassifizierung von Hunderassen eine Methode des klassischen maschinellen Lernens, die Support Vector Machine (SVM).\n",
    "\n",
    "## Datensatz vorbereiten & laden\n",
    "Jedoch bevor man mit der tatsächlichen Klassifizierung beginnt, sollte man den Datensatz, der unter http://vision.stanford.edu/aditya86/ImageNetDogs/ zu finden ist, in den `./dataset/` Ordner des Projektes herunterladen (dieser Ordner sollte vorher von Hand erstellt werden). Nachdem der Datensatz heruntergeladen wurde, sollten 5 Hunderassen gewählt werden und ein Train Test Split durchgeführt werden:\n",
    "\n",
    "Anmerkung: diese Funktion muss nur einmalig ausgeführt werden."
   ]
  },
  {
   "cell_type": "code",
   "execution_count": null,
   "id": "514d25d84931a1fa",
   "metadata": {
    "ExecuteTime": {
     "end_time": "2024-12-10T11:38:05.833542Z",
     "start_time": "2024-12-10T11:38:05.808636Z"
    }
   },
   "outputs": [],
   "source": [
    "# from helpers.split import train_test_split\n",
    "\n",
    "# train_test_split()\n",
    "# print(\"\\n\\n --- All Done ---\")"
   ]
  },
  {
   "cell_type": "markdown",
   "id": "76255750",
   "metadata": {},
   "source": [
    "Nun können wir die Daten aus den Ordnern `./dataset/Train/` `./dataset/Test/` laden und auf dieselbe Größe padden und resizen:"
   ]
  },
  {
   "cell_type": "code",
   "execution_count": null,
   "id": "9e6ecdb3",
   "metadata": {},
   "outputs": [],
   "source": [
    "from helpers.dataloader import load_dataset\n",
    "\n",
    "x_train, y_train = load_dataset(\"./dataset/Train/Images\")\n",
    "x_test, y_test = load_dataset(\"./dataset/Test/Images\")"
   ]
  },
  {
   "cell_type": "markdown",
   "id": "32664937fc558faf",
   "metadata": {},
   "source": [
    "## Erkennung von Merkmalen\n",
    "\n",
    "- Kopfform (Hough-Transformation)\n",
    "- Form der Ohren (rund/spitz) (Hough-Transformation)\n",
    "- Fell oder kein Fell (Kantenerkennung - Canny)\n",
    "- Augen und Augenabstand (als Maß für andere Dinge, s. SIFT): Hough-Transformation und Mittelpunktsabstand\n",
    "- Auf Basis des Augenabstands: Größe des Kopfes/des ganzen Hundes (???)\n",
    "- Farben und Fellmuster (RGB-Histogramme)\n",
    "- Schwanzlänge und Form (Hough-Transformation)\n",
    "- Körperform (Hough)"
   ]
  },
  {
   "cell_type": "code",
   "execution_count": null,
   "id": "4ac29e3c082bd188",
   "metadata": {},
   "outputs": [],
   "source": []
  }
 ],
 "metadata": {
  "kernelspec": {
   "display_name": "dog-classification",
   "language": "python",
   "name": "python3"
  },
  "language_info": {
   "codemirror_mode": {
    "name": "ipython",
    "version": 3
   },
   "file_extension": ".py",
   "mimetype": "text/x-python",
   "name": "python",
   "nbconvert_exporter": "python",
   "pygments_lexer": "ipython3",
   "version": "3.12.7"
  }
 },
 "nbformat": 4,
 "nbformat_minor": 5
}
