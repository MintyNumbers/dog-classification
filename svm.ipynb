{
 "cells": [
  {
   "cell_type": "markdown",
   "id": "c459291fc287ee3d",
   "metadata": {},
   "source": [
    "# Klassifikation von Hunderassen mit SVMs"
   ]
  },
  {
   "metadata": {},
   "cell_type": "code",
   "outputs": [],
   "execution_count": null,
   "source": [
    "from importlib import reload\n",
    "import helpers\n",
    "\n",
    "reload(helpers.split)\n",
    "\n",
    "helpers.split.train_test_split()\n",
    "print(\"\\n\\n --- All Done ---\")\n"
   ],
   "id": "514d25d84931a1fa"
  }
 ],
 "metadata": {
  "kernelspec": {
   "display_name": "dog-classification",
   "language": "python",
   "name": "python3"
  },
  "language_info": {
   "codemirror_mode": {
    "name": "ipython",
    "version": 3
   },
   "file_extension": ".py",
   "mimetype": "text/x-python",
   "name": "python",
   "nbconvert_exporter": "python",
   "pygments_lexer": "ipython3",
   "version": "3.12.7"
  }
 },
 "nbformat": 4,
 "nbformat_minor": 5
}
