{
 "cells": [
  {
   "cell_type": "markdown",
   "id": "fda07f8ec35fc7ac",
   "metadata": {},
   "source": [
    "# Klassifikation von Hunderassen mit SVMs\n",
    "Dieses Notebook nutzt zur Klassifizierung von Hunderassen eine Methode des klassischen maschinellen Lernens, die Support Vector Machine (SVM)."
   ]
  },
  {
   "cell_type": "markdown",
   "id": "dff7d97a9e4fc6ca",
   "metadata": {},
   "source": [
    "## Laden der Daten und Aufsplitten der Daten in Trainings- und Testdaten\n",
    "\n",
    "### Herunterladen der Daten\n",
    "\n",
    "Bevor das Notebook ausgeführt werden kann, muss der `Images`-Ordner des [Stanford Dog Dataset](http://vision.stanford.edu/aditya86/ImageNetDogs/) heruntergeladen werden und im selben Verzeichnis wie dieses Notebook im Unterordner `dataset` gesichert werden. Die resultierende Dateistruktur sollte so aussehen (Ausschnitt):\n",
    "```\n",
    ".\n",
    "├── svm.ipynb\n",
    "├── dataset\n",
    "│   ├── Images\n",
    "│   │   ├── n02113799-standard_poodle\n",
    "│   │   ├── ...\n",
    "```\n",
    "\n",
    "Genau genommen genügen die `Images`-Unterordner\n",
    "\n",
    "- `n02113799-standard_poodle`\n",
    "- `n02113978-Mexican_hairless`\n",
    "- `n02115641-dingo`\n",
    "- `n02115913-dhole`\n",
    "- `n02116738-African_hunting_dog`\n",
    "\n",
    "da dies die fünf Rassen sind, die von der SVM klassifiziert werden sollen.\n",
    "\n",
    "### Splitting\n",
    "\n",
    "Da in jeder Klasse ausreichend Bilder zur Verfügung stehen, um Test- und Trainingsdaten bei der Kreuzvalidierung sínnvoll trennen zu können, ist dieser Vorverarbeitungsschritt prinzipiell nicht nötig. Dennoch soll an dieser Stelle gezeigt werden, wie mithilfe des eigens entwickelten Split-Helpers die Daten aufgetrennt werden.\n",
    "\n",
    "**Hinweis:** Dieser Schritt läuft nur dann ohne Fehler, wenn die Ordner `./dataset/Train` und `./dataset/Test` noch nicht existieren. So wird sichergestellt, dass die Daten nicht mehrfach in dieselben Ordner gesplittet werden und dadurch Duplikate entstehen. Um diese Fehler zu vermeiden, kann für nachfolgende Durchläufe die Variable `SPLIT_DATA` auf `False` gesetzt werden."
   ]
  },
  {
   "cell_type": "code",
   "execution_count": 2,
   "id": "7bb0b615897cf0e5",
   "metadata": {
    "ExecuteTime": {
     "end_time": "2024-12-18T13:35:00.636577Z",
     "start_time": "2024-12-18T13:34:56.671066Z"
    }
   },
   "outputs": [
    {
     "name": "stdout",
     "output_type": "stream",
     "text": [
      "\n",
      "\n",
      " --- Splitting done ---\n"
     ]
    }
   ],
   "source": [
    "from helpers.split import train_test_split\n",
    "from helpers.train import plot_confusion_matrix\n",
    "\n",
    "SPLIT_DATA = True  # Set True to create a data split (Make sure ./dataset/Test and ./dataset/Train directories do not exist)\n",
    "\n",
    "if SPLIT_DATA:\n",
    "    train_test_split()\n",
    "    print(\"\\n\\n --- Splitting done ---\")"
   ]
  },
  {
   "cell_type": "markdown",
   "id": "818c26e9fc23d1d1",
   "metadata": {},
   "source": [
    "Daneben steht im Helpers-Package auch die Funktion `load_dataset` zur Verfügung, mit der direkt aus dem `Images`-Ordner oder aus den vorbereiteten Trainings- und Test-Verzeichnissen die Bilder und zugehörigen Hunderassen eingelesen werden können. Dabei durchlaufen die Bilder eine Vorverarbeitung, in der sie auf standardmäßig 256x256 Pixel skaliert werden. Kleinere Bilder sowie die kürzeren Seiten nach der das Seitenverhältnis bewahrenden Skalierung werden schwarz aufgefüllt. Heraus kommt ein Tupel, mit den Bilddaten als `ndarray` und den Labels als `ndarray`. Für die SVM muss das Format der Labels allerdings noch angepasst werden, damit nicht mehr pro Klasse eine Komponente gesetzt wird. Standardmäßig entspricht das Label-Array vom Aufbau her nämlich der folgenden Tabelle (ohne Überschriften), die SVM erwartet allerdings einen Vektor (also 1xn statt 5xn).\n",
    "\n",
    "| Pudel | Mexican | Dingo | Dhole | African |\n",
    "|:------|:--------|:------|:------|:--------|\n",
    "| 1     | 0       | 0     | 0     | 0       |\n",
    "| 0     | 0       | 1     | 0     | 0       |\n",
    "| 0     | 1       | 0     | 0     | 0       |\n",
    "| 0     | 0       | 0     | 0     | 1       |\n",
    "| 0     | 0       | 0     | 1     | 0       |\n",
    "\n",
    "Da jedes Bild nur einer Hunderasse zugeordnet ist, die Indizes der Rassen sich nicht ändern und die einzige Spalte mit dem Maximalwert 1 jeweils die dem Bild zugeordnete Hunderasse ist, kann der Index mit dem maximalen Wert als Klassenlabel für die SVM verwendet werden."
   ]
  },
  {
   "cell_type": "code",
   "execution_count": 3,
   "id": "c723c1382d9737c5",
   "metadata": {
    "ExecuteTime": {
     "end_time": "2024-12-18T13:35:25.266614Z",
     "start_time": "2024-12-18T13:35:00.650137Z"
    }
   },
   "outputs": [],
   "source": [
    "from helpers.dataloader import load_dataset\n",
    "import numpy as np\n",
    "\n",
    "# load all (unsplitted) Image Data. Alternatively, change the path to use Train/Test splits\n",
    "images, label_matrix = load_dataset(\"./dataset/Train/Images\")\n",
    "test_img, test_label_matrix = load_dataset(\"./dataset/Test/Images\")\n",
    "\n",
    "# reformat labels\n",
    "labels = np.argmax(label_matrix, axis=1)\n",
    "test_labels = np.argmax(test_label_matrix, axis=1)"
   ]
  },
  {
   "cell_type": "markdown",
   "id": "1f14b0bc1c541e25",
   "metadata": {},
   "source": [
    "## Merkmalsextraktion\n",
    "\n",
    "Damit die SVM trainiert werden kann, müssen aus den Bildern relevante Features extrahiert werden. Im Folgenden werden diese kurz vorgestellt.\n",
    "\n",
    "### Körperform\n",
    "\n",
    "Um die Körper-/Kopfform des Hundes zu bestimmen, wird eine Hough-Transformation durchgeführt. Dafür werden die durchschnittlichen Radien und die Standardabweichung der 10 signifikantesten Kreise als Features gewählt, da sie Rückschlüsse darauf erlauben, ob der Hund eher rund oder kantig ist.\n",
    "Ebenfalls wird die Anzahl der Ecken als Merkmal für den Körperbau verwendet, um beispielsweise spitze oder runde Ohren besser auseinanderhalten zu können.\n",
    "\n",
    "### Fell\n",
    "\n",
    "Zur Erkennung, ob ein Hund Fell hat (wie ein Pudel) oder nicht (wie ein Mexican Hairless) wird ein empfindlich eingestellter Canny-Kantendetektor eingesetzt. Außerdem wird die Entropie des Bildes bestimmt, um über die \"Unruhe\" Rückschlüsse auf die Beschaffenheit des Fells zu ziehen.\n",
    "\n",
    "### Farbe\n",
    "\n",
    "Die Durchschnittsfarbe des Bilds, ein Grauwert- und ein RGB-Histogramm sollen dabei helfen, den Hund anhand der Fellfarbe zu identifizieren.\n",
    "\n",
    "### Ergebnis\n",
    "\n",
    "Das Modell wurde mit verschiedenen Kombinationen der Featurevektoren getestet, das beste Ergebnis basierend auf Genauigkeit und benötigter Verarbeitungszeit konnte durch die Verwendung von Grauwerthistogramm und Entropie erzielt werden. Daher sind nur diese Funktionen im Notebook enthalten. Die anderen, weniger nützlichen Featureextraktionen finden sich in `various_features.py`."
   ]
  },
  {
   "cell_type": "code",
   "execution_count": 4,
   "id": "6b183c8dc2e4ca2a",
   "metadata": {
    "ExecuteTime": {
     "end_time": "2024-12-18T13:35:25.366548Z",
     "start_time": "2024-12-18T13:35:25.359782Z"
    }
   },
   "outputs": [],
   "source": [
    "from skimage.measure import shannon_entropy\n",
    "from skimage.color import rgb2gray\n",
    "\n",
    "\n",
    "def extract_features_histogram(image, bins=32):\n",
    "    image = rgb2gray(image)\n",
    "    hist, _ = np.histogram(image, bins=bins, range=(0, 1))\n",
    "    return hist / hist.sum()  # Normalise\n",
    "\n",
    "\n",
    "def extract_image_entropy(image):\n",
    "    image = rgb2gray(image)\n",
    "    entropy_value = shannon_entropy(image)\n",
    "    return [entropy_value]"
   ]
  },
  {
   "cell_type": "markdown",
   "id": "8834f9ae55e33445",
   "metadata": {},
   "source": [
    "Anhand dieser Funktionen kann nun der Merkmalsvektor für ein Bild bestimmt werden. Das Bild soll an dieser Stelle bereits als `ndarray` vorhanden sein."
   ]
  },
  {
   "cell_type": "code",
   "execution_count": 5,
   "id": "4d9b5b149fb312e6",
   "metadata": {
    "ExecuteTime": {
     "end_time": "2024-12-18T13:35:25.408655Z",
     "start_time": "2024-12-18T13:35:25.402943Z"
    }
   },
   "outputs": [],
   "source": [
    "def extract_features(image):\n",
    "    fv = []\n",
    "    fv.extend(extract_features_histogram(image))\n",
    "    fv.extend(extract_image_entropy(image))\n",
    "    return fv"
   ]
  },
  {
   "cell_type": "markdown",
   "id": "fbb0ef91544dcf21",
   "metadata": {},
   "source": [
    "Mit `extract_features` wird nun für jedes Bild der eingelesenen Daten der Merkmalsvektor berechnet. So ergibt sich aus `features` und `labels` das fertig vorbereitete Datenset für die SVM."
   ]
  },
  {
   "cell_type": "code",
   "execution_count": 6,
   "id": "177c3a993421bc8f",
   "metadata": {
    "ExecuteTime": {
     "end_time": "2024-12-18T13:35:30.041952Z",
     "start_time": "2024-12-18T13:35:25.457237Z"
    }
   },
   "outputs": [
    {
     "name": "stdout",
     "output_type": "stream",
     "text": [
      "Processing training img 0\n",
      "Processing training img 50\n",
      "Processing training img 100\n",
      "Processing training img 150\n",
      "Processing training img 200\n",
      "Processing training img 250\n",
      "Processing training img 300\n",
      "Processing training img 350\n",
      "Processing training img 400\n",
      "Processing training img 450\n",
      "Processing training img 500\n",
      "Processing training img 550\n",
      "---\n",
      "Processing test img 0\n",
      "Processing test img 50\n",
      "Processing test img 100\n",
      "Processing test img 150\n"
     ]
    }
   ],
   "source": [
    "# Extract features for training\n",
    "features = []\n",
    "for index, image in enumerate(images):\n",
    "    if index % 50 == 0:\n",
    "        print(\"Processing training img\", index)\n",
    "    features.append(extract_features(image))\n",
    "features = np.asarray(features)\n",
    "print(\"---\")\n",
    "\n",
    "# Extract features for testing\n",
    "test_features = []\n",
    "for index, image in enumerate(test_img):\n",
    "    if index % 50 == 0:\n",
    "        print(\"Processing test img\", index)\n",
    "    test_features.append(extract_features(image))\n",
    "test_features = np.asarray(test_features)"
   ]
  },
  {
   "cell_type": "markdown",
   "id": "b48f231f15894822",
   "metadata": {},
   "source": [
    "## Merkmalsreduktion und Hyperparameteroptimierung\n",
    "\n",
    "Bei der Merkmalsreduktion werden die Verfahren PCA und LDA verglichen. Da das Training der SVM schnell geht, wird für beide Möglichkeiten eine Hyperparameteroptimierung vorgenommen und am Ende die jeweils beste Accuracy verglichen.\n",
    "\n",
    "Dafür werden zunächst Pipelines für die beiden Möglichkeiten angelegt, jeweils mit dem StandardScaler für die Merkmalsskalierung und einer SVM. Bei der SVM wird der Random State jeweils auf denselben Wert gesetzt, um vergleichbare Ergebnisse zu erhalten. Dadurch ist der einzige Unterschied die PCA bzw. LDA. Außerdem werden die Hyperparameterraster für die Hyperparameteroptimierung mit GridSearch definiert. Diese unterscheiden sich, damit für jede Pipeline die jeweils besten Hyperparameter ermittelt werden können. Über die Aufgabenstellung hinaus wurde auch die Anzahl der"
   ]
  },
  {
   "cell_type": "code",
   "execution_count": 7,
   "id": "c6d3381b85941c03",
   "metadata": {
    "ExecuteTime": {
     "end_time": "2024-12-18T13:35:30.080387Z",
     "start_time": "2024-12-18T13:35:30.065997Z"
    }
   },
   "outputs": [],
   "source": [
    "from sklearn.decomposition import PCA\n",
    "from sklearn.discriminant_analysis import LinearDiscriminantAnalysis as LDA\n",
    "from sklearn.preprocessing import StandardScaler\n",
    "from sklearn.pipeline import Pipeline\n",
    "from sklearn.svm import SVC\n",
    "\n",
    "# Pipelines\n",
    "pipelines = {\n",
    "    'PCA': Pipeline([\n",
    "        (\"scaler\", StandardScaler()),\n",
    "        (\"pca\", PCA(n_components=5)),\n",
    "        (\"svc\", SVC(kernel=\"rbf\", random_state=42))\n",
    "    ]),\n",
    "    'LDA': Pipeline([\n",
    "        (\"scaler\", StandardScaler()),\n",
    "        (\"lda\", LDA()),\n",
    "        (\"svc\", SVC(kernel=\"rbf\", random_state=42))\n",
    "    ]),\n",
    "}\n",
    "\n",
    "# Hyperparameter-Raster\n",
    "# C controls the margin tolerance of an SVM. Gamma defines the range of influence of a single data point\n",
    "# in the rbf kernel.\n",
    "param_grids = {\n",
    "    'PCA': {\n",
    "        \"svc__C\": [0.1, 1, 10, 100],\n",
    "        \"svc__gamma\": [0.001, 0.01, 0.1, 1]\n",
    "    },\n",
    "    'LDA': {\n",
    "        \"svc__C\": [0.1, 1, 10, 100, 200],\n",
    "        \"svc__gamma\": [0.001, 0.01, 0.1, 1]\n",
    "    },\n",
    "}"
   ]
  },
  {
   "cell_type": "markdown",
   "id": "8458f0bff3317fb9",
   "metadata": {},
   "source": [
    "Nach der Definition der grundlegenden Abläufe und Werte kann die eigentliche Hyperparameteroptimierung stattfinden. Dafür wird für jede Pipeline eine GridSearch mit 4-fold-Kreuzvalidierung durchgeführt und das beste Ergebnis zählt."
   ]
  },
  {
   "cell_type": "code",
   "execution_count": 8,
   "id": "68a24df9aeae0310",
   "metadata": {
    "ExecuteTime": {
     "end_time": "2024-12-18T13:35:32.221443Z",
     "start_time": "2024-12-18T13:35:30.110550Z"
    }
   },
   "outputs": [
    {
     "name": "stdout",
     "output_type": "stream",
     "text": [
      "\n",
      "Start training with PCA and hyperparameter optimisation...\n",
      "Fitting 4 folds for each of 16 candidates, totalling 64 fits\n",
      "\n",
      "Best parameters for PCA: {'svc__C': 1, 'svc__gamma': 0.1}\n",
      "Best Cross Validation Avg Accuracy for PCA: 0.3768\n",
      "\n",
      "Start training with LDA and hyperparameter optimisation...\n",
      "Fitting 4 folds for each of 20 candidates, totalling 80 fits\n",
      "\n",
      "Best parameters for LDA: {'svc__C': 1, 'svc__gamma': 0.1}\n",
      "Best Cross Validation Avg Accuracy for LDA: 0.2929\n"
     ]
    }
   ],
   "source": [
    "from sklearn.model_selection import GridSearchCV\n",
    "\n",
    "best_estimators = {}\n",
    "best_scores = {}\n",
    "\n",
    "for method, pipeline in pipelines.items():\n",
    "    print(f\"\\nStart training with {method} and hyperparameter optimisation...\")\n",
    "    grid_search = GridSearchCV(\n",
    "        estimator=pipeline,\n",
    "        param_grid=param_grids[method],\n",
    "        scoring=\"accuracy\",\n",
    "        cv=4,  # 4-Fold Cross Validation\n",
    "        verbose=1,\n",
    "        n_jobs=-1,  # Parallelise the processing of the folds\n",
    "    )\n",
    "    grid_search.fit(features, labels)\n",
    "    best_estimators[method] = grid_search.best_estimator_\n",
    "    best_scores[method] = grid_search.best_score_\n",
    "\n",
    "    print(f\"\\nBest parameters for {method}: {grid_search.best_params_}\")\n",
    "    print(f\"Best Cross Validation Avg Accuracy for {method}: {grid_search.best_score_:.4f}\")"
   ]
  },
  {
   "cell_type": "markdown",
   "id": "a5e586fb61ce50ae",
   "metadata": {},
   "source": [
    "Das Ergebnis der Analyse zeigt, dass die PCA besser abschneidet. Der optimale Hyperparameter $C = 1$ weist darauf hin, dass die SVM versucht, eine \"weiche\" Trennlinie zwischen den Klassen zu ziehen - das ist aufgrund der schwierigen Trennbarkeit der Daten ein gutes Zeichen. Das moderat gewählte $\\gamma = 0.1$ ermöglicht es der SVM, auf Details einzugehen, ohne zu sehr ins Overfitting zu kommen.\n",
    "\n",
    "Das auf diese Weise gefundene beste Modell wird nun als optimiertes Modell weiterverwendet und einer finalen Kreuzvalidierung unterzogen (die dasselbe Ergebnis haben wird wie zuvor, sofern immer noch 4 folds verwendet werden), um konkrete Werte für den Vergleich mit dem als nächstes implementierten k-Nearest-Neighbour-Klassifikator zu erhalten."
   ]
  },
  {
   "cell_type": "code",
   "execution_count": 9,
   "id": "d518cf51702d248",
   "metadata": {
    "ExecuteTime": {
     "end_time": "2024-12-18T13:35:32.369114Z",
     "start_time": "2024-12-18T13:35:32.271146Z"
    }
   },
   "outputs": [
    {
     "name": "stdout",
     "output_type": "stream",
     "text": [
      "\n",
      "Results of the Cross Validation:\n",
      "Fold 1: Accuracy = 0.3643\n",
      "Fold 2: Accuracy = 0.3929\n",
      "Fold 3: Accuracy = 0.3571\n",
      "Fold 4: Accuracy = 0.3929\n",
      "\n",
      "Average Accuracy over all folds: 0.3768 ± 0.0163\n"
     ]
    }
   ],
   "source": [
    "from sklearn.model_selection import cross_val_score\n",
    "\n",
    "optimised_model = best_estimators['PCA']\n",
    "\n",
    "cv_scores = cross_val_score(optimised_model, features, labels, cv=4, scoring=\"accuracy\")\n",
    "\n",
    "print(\"\\nResults of the Cross Validation:\")\n",
    "for fold_index, score in enumerate(cv_scores, 1):\n",
    "    print(f\"Fold {fold_index}: Accuracy = {score:.4f}\")\n",
    "\n",
    "print(\n",
    "    f\"\\nAverage Accuracy over all folds: {cv_scores.mean():.4f} ± {cv_scores.std():.4f}\"\n",
    ")"
   ]
  },
  {
   "cell_type": "code",
   "execution_count": 10,
   "id": "4009defdb4adbfb5",
   "metadata": {
    "ExecuteTime": {
     "end_time": "2024-12-18T13:35:32.943137Z",
     "start_time": "2024-12-18T13:35:32.462005Z"
    }
   },
   "outputs": [
    {
     "name": "stdout",
     "output_type": "stream",
     "text": [
      "Accuracy of the SVM when tested again Validation (Test) Dataset 0.4421052631578947\n",
      "Train Images: 560,\tAccuracy: 54.4643%\n",
      "Test Images: 190,\tAccuracy: 44.2105%\n"
     ]
    },
    {
     "data": {
      "image/png": "[encoded data removed]",
      "text/plain": [
       "<Figure size 1500x500 with 4 Axes>"
      ]
     },
     "metadata": {},
     "output_type": "display_data"
    }
   ],
   "source": [
    "prediction = optimised_model.predict(test_features)\n",
    "\n",
    "accuracy = np.sum(prediction == test_labels) / len(test_labels)\n",
    "print(\"Accuracy of the SVM when tested again Validation (Test) Dataset\", accuracy)\n",
    "\n",
    "plot_confusion_matrix(model=optimised_model, x_train=features, y_train=labels, x_test=test_features, y_test=test_labels,)"
   ]
  },
  {
   "cell_type": "markdown",
   "id": "3db9820a70d66e1b",
   "metadata": {},
   "source": [
    "Die Konfusionsmatrizen zeigen, dass die SVM die Daten nur schwer trennen kann. Dieses Ergebnis war zu erwarten, da die Klassen verschwimmen und große Überlappungen haben, die von der SVM nicht sinnvoll abgegrenzt werden können, ohne ins Overfitting zu geraten. Das Ergebnis zeigt, dass ein sinnvoller Kompromiss zwischen Accuracy und Overfitting gefunden wurde, da das Klassifikationsergebnis der Testdaten akzeptabel ist und die Genauigkeit auf den Trainingsdaten nicht an Perfektion grenzt (was auf Overfitting hindeuten würde)."
   ]
  },
  {
   "cell_type": "markdown",
   "id": "11a297b336fe3d24",
   "metadata": {},
   "source": [
    "## Implementierung des k-nearest-Neighbour-Klassifikators\n",
    "\n",
    "Zunächst wird der Klassifikator instanziiert und -- wie auch bei der SVM -- die Grid Search für die Hyperparameteroptimierung vorbereitet.\n",
    "Danach wird der Klassifikator mit den besten Parametern erneut kreuzvalidiert, um finale Ergebnisse für den Vergleich zu erhalten. Insgesamt ist der Prozess damit sehr ähnlich zur Erstellung und Hyperparameteroptimierung der SVM."
   ]
  },
  {
   "cell_type": "code",
   "execution_count": 11,
   "id": "fce60cbf7da0b5ba",
   "metadata": {
    "ExecuteTime": {
     "end_time": "2024-12-18T13:35:33.060086Z",
     "start_time": "2024-12-18T13:35:32.951051Z"
    }
   },
   "outputs": [
    {
     "name": "stdout",
     "output_type": "stream",
     "text": [
      "\n",
      "Start training with k-NN and hyperparameter optimisation...\n",
      "Fitting 4 folds for each of 8 candidates, totalling 32 fits\n",
      "\n",
      "Best parameters for k-NN: {'n_neighbors': 3}\n",
      "Best Cross Validation Avg Accuracy for k-NN: 0.3625\n"
     ]
    }
   ],
   "source": [
    "from sklearn.neighbors import KNeighborsClassifier\n",
    "\n",
    "knn = KNeighborsClassifier(metric=\"manhattan\", weights=\"distance\", n_jobs=-1)\n",
    "param_grid_knn = {\n",
    "    \"n_neighbors\": [1, 3, 5, 7, 9, 11, 13, 15],\n",
    "}\n",
    "\n",
    "# Hyperparameter Optimisation\n",
    "print(\"\\nStart training with k-NN and hyperparameter optimisation...\")\n",
    "grid_search_knn = GridSearchCV(\n",
    "    estimator=knn,\n",
    "    param_grid=param_grid_knn,\n",
    "    scoring=\"accuracy\",\n",
    "    cv=4,  # 4-Fold Cross Validation\n",
    "    verbose=1,\n",
    "    n_jobs=-1,  # Parallelise processing\n",
    ")\n",
    "grid_search_knn.fit(features, labels)\n",
    "\n",
    "# Save the best model, parameters and values\n",
    "best_knn_model = grid_search_knn.best_estimator_\n",
    "best_knn_params = grid_search_knn.best_params_\n",
    "best_knn_score = grid_search_knn.best_score_\n",
    "\n",
    "# Print results of optimisation\n",
    "print(f\"\\nBest parameters for k-NN: {best_knn_params}\")\n",
    "print(f\"Best Cross Validation Avg Accuracy for k-NN: {best_knn_score:.4f}\")"
   ]
  },
  {
   "cell_type": "markdown",
   "id": "17c18563511b4df4",
   "metadata": {},
   "source": [
    "Wie bereits bei der Hyperparameteroptimierung der SVM hat sich auch beim k-Nearest-Neighbour-Klassifikator ein moderater Wert als optimal herausgestellt: Mit $k = 13$ werden genügend Nachbarn miteinbezogen, um ausreichende Stabilität gegen Ausreißer zu bieten, ohne stark zu Overfitting zu neigen."
   ]
  },
  {
   "cell_type": "code",
   "execution_count": 12,
   "id": "5f68dd8cdf8d81f9",
   "metadata": {
    "ExecuteTime": {
     "end_time": "2024-12-18T13:35:33.194029Z",
     "start_time": "2024-12-18T13:35:33.109609Z"
    }
   },
   "outputs": [
    {
     "name": "stdout",
     "output_type": "stream",
     "text": [
      "\n",
      "Results of the Cross Validation for k-NN:\n",
      "Fold 1: Accuracy = 0.3571\n",
      "Fold 2: Accuracy = 0.3500\n",
      "Fold 3: Accuracy = 0.3714\n",
      "Fold 4: Accuracy = 0.3714\n",
      "\n",
      "Average Accuracy over all folds: 0.3625 ± 0.0093\n"
     ]
    }
   ],
   "source": [
    "# Validate final model again (no different results expected than before when using 4 folds)\n",
    "cv_scores_knn = cross_val_score(\n",
    "    best_knn_model, features, labels, cv=4, scoring=\"accuracy\"\n",
    ")\n",
    "\n",
    "print(\"\\nResults of the Cross Validation for k-NN:\")\n",
    "for fold_index, score in enumerate(cv_scores_knn, 1):\n",
    "    print(f\"Fold {fold_index}: Accuracy = {score:.4f}\")\n",
    "\n",
    "print(\n",
    "    f\"\\nAverage Accuracy over all folds: {cv_scores_knn.mean():.4f} ± {cv_scores_knn.std():.4f}\"\n",
    ")"
   ]
  },
  {
   "cell_type": "code",
   "execution_count": 13,
   "id": "f9f9b100802b013d",
   "metadata": {
    "ExecuteTime": {
     "end_time": "2024-12-18T13:35:33.765644Z",
     "start_time": "2024-12-18T13:35:33.278518Z"
    }
   },
   "outputs": [
    {
     "name": "stdout",
     "output_type": "stream",
     "text": [
      "Accuracy of the SVM when tested again Validation (Test) Dataset 0.3631578947368421\n",
      "<class 'sklearn.neighbors._classification.KNeighborsClassifier'>\n",
      "Train Images: 560,\tAccuracy: 100.0000%\n",
      "Test Images: 190,\tAccuracy: 36.3158%\n"
     ]
    },
    {
     "data": {
      "image/png": "[encoded data removed]",
      "text/plain": [
       "<Figure size 1500x500 with 4 Axes>"
      ]
     },
     "metadata": {},
     "output_type": "display_data"
    }
   ],
   "source": [
    "knn_prediction = best_knn_model.predict(test_features)\n",
    "\n",
    "knn_accuracy = np.sum(knn_prediction == test_labels) / len(test_labels)\n",
    "print(\"Accuracy of the SVM when tested again Validation (Test) Dataset\", knn_accuracy)\n",
    "\n",
    "print(type(best_knn_model))\n",
    "plot_confusion_matrix(model=best_knn_model, x_train=features, y_train=labels, x_test=test_features, y_test=test_labels,)"
   ]
  },
  {
   "cell_type": "markdown",
   "id": "a33b56d258028e7d",
   "metadata": {},
   "source": [
    "Die Klassifikationsgenauigkeit beim Training liegt beim k-Nearest-Neighbour-Klassifikator bei 100 %. Bei anderen Modellen deutet dies auf starkes Overfitting hin, allerdings ist die perfekte Genauigkeit bei k-NN nicht bedenklich. Das liegt daran, dass das Modell die Trainingsdatenpunkte direkt speichert und Klassifikationsdaten anhand ihrer Nähe zu Trainingsdaten einordnet. Da die Trainingsdaten jeweils zu sich selbst den minimalen Abstand haben, ist eine perfekte Klassifikation sogar zu erwarten.\n",
    "\n",
    "Die Konfusionsmatrix über die Testdaten zeigt hingegen, dass der Klassifikator sich bei der Klassifikation sehr unsicher ist. Das liegt daran, dass die Eingabedaten (Hunderassen) nicht scharf trennbar sind und große Überlappungen zwischen den Klassen auftreten. Durch die Betrachtung der nahen Punkte kommt es dann in den Überlappungen zu häufigen Fehlklassifikationen."
   ]
  },
  {
   "cell_type": "markdown",
   "id": "2b5b3bd57744b3ba",
   "metadata": {},
   "source": [
    "## Vergleich der Ergebnisse von SVM und k-NN-Klassifikator\n",
    "\n",
    "Die SVM schneidet in der 4-fold-Kreuzvalidierung nach der Hyperparameteroptimierung mit einer durchschnittlichen Genauigkeit von 43,1 % etwas besser ab als der k-Nearest-Neighbour-Klassifikator (35,8 %). Beide Genauigkeiten sind eher schlecht, was daran liegt, dass die Eingabedaten nur schwer trennbar sind und Klassen sich häufig und stark überlappen. Das kann an den Konfusionsmatrizen erkannt werden. Das etwas bessere Abschneiden der SVM kann dadurch erklärt werden, dass die Abgrenzung der Klassen durch einen Support Vector durch die Überlappungsgebiete besser funktioniert (SVM) als nur die direkte Umgebung eines Punktes zu prüfen (k-NN), da einzelne Punktanhäufungen das SVM-Ergebnis weniger verzerren als das von k-Nearest-Neighbours."
   ]
  }
 ],
 "metadata": {
  "kernelspec": {
   "display_name": "Python 3",
   "language": "python",
   "name": "python3"
  },
  "language_info": {
   "codemirror_mode": {
    "name": "ipython",
    "version": 3
   },
   "file_extension": ".py",
   "mimetype": "text/x-python",
   "name": "python",
   "nbconvert_exporter": "python",
   "pygments_lexer": "ipython3",
   "version": "3.12.8"
  }
 },
 "nbformat": 5,
 "nbformat_minor": 9
}
