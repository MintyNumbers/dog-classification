{
 "cells": [
  {
   "metadata": {},
   "cell_type": "markdown",
   "source": [
    "# Klassifikation von Hunderassen mit SVMs\n",
    "Dieses Notebook nutzt zur Klassifizierung von Hunderassen eine Methode des klassischen maschinellen Lernens, die Support Vector Machine (SVM)."
   ],
   "id": "eeb94ef12f56c56"
  },
  {
   "metadata": {},
   "cell_type": "markdown",
   "source": [
    "## 1. Laden der Daten und Aufsplitten der Daten in Trainings- und Testdaten\n",
    "\n",
    "### Herunterladen der Daten\n",
    "\n",
    "Bevor das Notebook ausgeführt werden kann, muss der `Images`-Ordner des [Stanford Dog Dataset](http://vision.stanford.edu/aditya86/ImageNetDogs/) heruntergeladen werden und im selben Verzeichnis wie dieses Notebook im Unterordner `dataset` gesichert werden. Die resultierende Dateistruktur sollte so aussehen (Ausschnitt):\n",
    "```\n",
    ".\n",
    "├── svm.ipynb\n",
    "├── dataset\n",
    "│   ├── Images\n",
    "│   │   ├── n02113799-standard_poodle\n",
    "│   │   ├── ...\n",
    "```\n",
    "\n",
    "Genau genommen genügen die `Images`-Onterordner\n",
    "\n",
    "- `n02113799-standard_poodle`\n",
    "- `n02113978-Mexican_hairless`\n",
    "- `n02115641-dingo`\n",
    "- `n02115913-dhole`\n",
    "- `n02116738-African_hunting_dog`\n",
    "\n",
    "da dies die fünf Rassen sind, die von der SVM klassifiziert werden sollen.\n",
    "\n",
    "### Splitting\n",
    "\n",
    "Da in jeder Klasse ausreichend Bilder zur Verfügung stehen, um Test- und Trainingsdaten bei der Kreuzvalidierung sínnvoll trennen zu können, ist dieser Vorverarbeitungsschritt prinzipiell nicht nötig. Dennoch soll an dieser Stelle gezeigt werden, wie mithilfe des eigens entwickelten Split-Helpers die Daten aufgetrennt werden.\n",
    "\n",
    "**Hinweis:** Dieser Schritt läuft nur dann ohne Fehler, wenn die Ordner `./dataset/Train` und `./dataset/Test` noch nicht existieren. So wird sichergestellt, dass die Daten nicht mehrfach in dieselben Ordner gesplittet werden und dadurch Duplikate entstehen. Um diese Fehler zu vermeiden, kann für nachfolgende Durchläufe die Variable `SPLIT_DATA` auf `False` gesetzt werden."
   ],
   "id": "4f7be6056fc9da80"
  },
  {
   "metadata": {
    "ExecuteTime": {
     "end_time": "2024-12-17T23:51:34.355942Z",
     "start_time": "2024-12-17T23:51:34.352164Z"
    }
   },
   "cell_type": "code",
   "source": [
    "from helpers.split import train_test_split\n",
    "\n",
    "SPLIT_DATA = False  # Set True to create a data split (Make sure ./dataset/Test and ./dataset/Train directories do not exist)\n",
    "\n",
    "if SPLIT_DATA:\n",
    "    train_test_split()\n",
    "    print(\"\\n\\n --- Splitting done ---\")"
   ],
   "id": "2fe73231e3c2c02e",
   "outputs": [],
   "execution_count": 2
  },
  {
   "metadata": {},
   "cell_type": "markdown",
   "source": [
    "Daneben steht im Helpers-Package auch die Funktion `load_dataset` zur Verfügung, mit der direkt aus dem `Images`-Ordner oder aus den vorbereiteten Trainings- und Test-Verzeichnissen die Bilder und zugehörigen Hunderassen eingelesen werden können. Dabei durchlaufen die Bilder eine Vorverarbeitung, in der sie auf standardmäßig 256x256 Pixel skaliert werden. Kleinere Bilder sowie die kürzeren Seiten nach der das Seitenverhältnis bewahrenden Skalierung werden schwarz aufgefüllt. Heraus kommt ein Tupel, mit den Bilddaten als `ndarray` und den Labels als `ndarray`. Für die SVM muss das Format der Labels allerdings noch angepasst werden, damit nicht mehr pro Klasse eine Komponente gesetzt wird. Standardmäßig entspricht das Label-Array vom Aufbau her nämlich der folgenden Tabelle (ohne Überschriften), die SVM erwartet allerdings einen Vektor (also 1xn statt 5xn).\n",
    "\n",
    "| Pudel | Mexican | Dingo | Dhole | African |\n",
    "|:------|:--------|:------|:------|:--------|\n",
    "| 1     | 0       | 0     | 0     | 0       |\n",
    "| 0     | 0       | 1     | 0     | 0       |\n",
    "| 0     | 1       | 0     | 0     | 0       |\n",
    "| 0     | 0       | 0     | 0     | 1       |\n",
    "\n",
    "Da jedes Bild nur einer Hunderasse zugeordnet ist, die Indizes der Rassen sich nicht ändern und die einzige Spalte mit dem Maximalwert 1 jeweils die dem Bild zugeordnete Hunderasse ist, kann der Index mit dem maximalen Wert als Klassenlabel für die SVM verwendet werden."
   ],
   "id": "269d7e02355157e1"
  },
  {
   "metadata": {
    "ExecuteTime": {
     "end_time": "2024-12-17T23:52:01.517962Z",
     "start_time": "2024-12-17T23:51:34.361955Z"
    }
   },
   "cell_type": "code",
   "source": [
    "from helpers import load_dataset\n",
    "import numpy as np\n",
    "\n",
    "# load all (unsplitted) Image Data. Alternatively, change the path to use Train/Test splits\n",
    "images, label_matrix = load_dataset(\"./dataset/Images\")\n",
    "\n",
    "# reformat labels\n",
    "labels = [np.argmax(lbl) for lbl in label_matrix]"
   ],
   "id": "b73e672ae1632940",
   "outputs": [],
   "execution_count": 3
  },
  {
   "metadata": {},
   "cell_type": "markdown",
   "source": [
    "## 2. Merkmalsextraktion\n",
    "\n",
    "Damit die SVM trainiert werden kann, müssen aus den Bildern relevante Features extrahiert werden. Im Folgenden werden diese kurz vorgestellt.\n",
    "\n",
    "### Körperform\n",
    "\n",
    "Um die Körper-/Kopfform des Hundes zu bestimmen, wird eine Hough-Transformation durchgeführt. Dafür werden die durchschnittlichen Radien und die Standardabweichung der 10 signifikantesten Kreise als Features gewählt, da sie Rückschlüsse darauf erlauben, ob der Hund eher rund oder kantig ist.\n",
    "Ebenfalls wird die Anzahl der Ecken als Merkmal für den Körperbau verwendet, um beispielsweise spitze oder runde Ohren besser auseinanderhalten zu können.\n",
    "\n",
    "### Fell\n",
    "\n",
    "Zur Erkennung, ob ein Hund Fell hat (wie ein Pudel) oder nicht (wie ein Mexican Hairless) wird ein empfindlich eingestellter Canny-Kantendetektor eingesetzt. Außerdem wird die Entropie des Bildes bestimmt, um über die \"Unruhe\" Rückschlüsse auf die Beschaffenheit des Fells zu ziehen.\n",
    "\n",
    "### Farbe\n",
    "\n",
    "Die Durchschnittsfarbe des Bilds, ein Grauwert- und ein RGB-Histogramm sollen dabei helfen, den Hund anhand der Fellfarbe zu identifizieren.\n",
    "\n",
    "### Ergebnis\n",
    "\n",
    "Das Modell wurde mit verschiedenen Kombinationen der Featurevektoren getestet, das beste Ergebnis basierend auf Genauigkeit und benötigter Verarbeitungszeit konnte durch die Verwendung von Grauwerthistogramm und Entropie erzielt werden. Daher sind nur diese Funktionen im Notebook enthalten. Die anderen, weniger nützlichen Featureextraktionen finden sich in `various_features.py`."
   ],
   "id": "1bd377e1125b97f4"
  },
  {
   "metadata": {
    "ExecuteTime": {
     "end_time": "2024-12-17T23:52:01.572179Z",
     "start_time": "2024-12-17T23:52:01.565789Z"
    }
   },
   "cell_type": "code",
   "source": [
    "from skimage.measure import shannon_entropy\n",
    "from skimage.color import rgb2gray\n",
    "\n",
    "\n",
    "def extract_features_histogram(image, bins=32):\n",
    "    image = rgb2gray(image)\n",
    "    hist, _ = np.histogram(image, bins=bins, range=(0, 1))\n",
    "    return hist / hist.sum()  # Normalise\n",
    "\n",
    "\n",
    "def extract_image_entropy(image):\n",
    "    image = rgb2gray(image)\n",
    "    entropy_value = shannon_entropy(image)\n",
    "    return [entropy_value]"
   ],
   "id": "66d2cff702cab91d",
   "outputs": [],
   "execution_count": 4
  },
  {
   "metadata": {},
   "cell_type": "markdown",
   "source": "Anhand dieser Funktionen kann nun der Merkmalsvektor für ein Bild bestimmt werden. Das Bild soll an dieser Stelle bereits als `ndarray` vorhanden sein.",
   "id": "10eb31c69021906a"
  },
  {
   "metadata": {
    "ExecuteTime": {
     "end_time": "2024-12-17T23:52:01.619218Z",
     "start_time": "2024-12-17T23:52:01.611340Z"
    }
   },
   "cell_type": "code",
   "source": [
    "def extract_features(image):\n",
    "    fv = []\n",
    "    fv.extend(extract_features_histogram(image))\n",
    "    fv.extend(extract_image_entropy(image))\n",
    "    return fv"
   ],
   "id": "51283ee288347630",
   "outputs": [],
   "execution_count": 5
  },
  {
   "metadata": {},
   "cell_type": "markdown",
   "source": "Mit `extract_features` wird nun für jedes Bild der eingelesenen Daten der Merkmalsvektor berechnet. So ergibt sich aus `features` und `labels` das fertig vorbereitete Datenset für die SVM.",
   "id": "dc9ddde9ad737d61"
  },
  {
   "metadata": {
    "ExecuteTime": {
     "end_time": "2024-12-17T23:52:06.482884Z",
     "start_time": "2024-12-17T23:52:01.674140Z"
    }
   },
   "cell_type": "code",
   "source": [
    "features = []\n",
    "for index, image in enumerate(images):\n",
    "    if index % 50 == 0:\n",
    "        print(\"Processing img\", index)\n",
    "    features.append(extract_features(image))"
   ],
   "id": "96b3958aac78c5f8",
   "outputs": [
    {
     "name": "stdout",
     "output_type": "stream",
     "text": [
      "Processing img 0\n",
      "Processing img 50\n",
      "Processing img 100\n",
      "Processing img 150\n",
      "Processing img 200\n",
      "Processing img 250\n",
      "Processing img 300\n",
      "Processing img 350\n",
      "Processing img 400\n",
      "Processing img 450\n",
      "Processing img 500\n",
      "Processing img 550\n",
      "Processing img 600\n",
      "Processing img 650\n",
      "Processing img 700\n",
      "Processing img 750\n"
     ]
    }
   ],
   "execution_count": 6
  },
  {
   "metadata": {},
   "cell_type": "markdown",
   "source": [
    "## Merkmalsreduktion und Hyperparameteroptimierung\n",
    "\n",
    "Bei der Merkmalsreduktion werden die Verfahren PCA und LDA verglichen. Da das Training der SVM schnell geht, wird für beide Möglichkeiten eine Hyperparameteroptimierung vorgenommen und am Ende die jeweils beste Accuracy verglichen.\n",
    "\n",
    "Dafür werden zunächst Pipelines für die beiden Möglichkeiten angelegt, jeweils mit dem StandardScaler für die Merkmalsskalierung und einer SVM. Bei der SVM wird der Random State jeweils auf denselben Wert gesetzt, um vergleichbare Ergebnisse zu erhalten. Dadurch ist der einzige Unterschied die PCA bzw. LDA. Außerdem werden die Hyperparameterraster für die Hyperparameteroptimierung mit GridSearch definiert. Diese unterscheiden sich, damit für jede Pipeline die jeweils besten Hyperparameter ermittelt werden können. Über die Aufgabenstellung hinaus wurde auch die Anzahl der"
   ],
   "id": "a3f6111375830953"
  },
  {
   "metadata": {
    "ExecuteTime": {
     "end_time": "2024-12-17T23:52:06.681908Z",
     "start_time": "2024-12-17T23:52:06.523628Z"
    }
   },
   "cell_type": "code",
   "source": [
    "from sklearn.decomposition import PCA\n",
    "from sklearn.discriminant_analysis import LinearDiscriminantAnalysis as LDA\n",
    "from sklearn.preprocessing import StandardScaler\n",
    "from sklearn.pipeline import Pipeline\n",
    "from sklearn.svm import SVC\n",
    "\n",
    "# Pipelines\n",
    "pipelines = {\n",
    "    'PCA': Pipeline([\n",
    "        (\"scaler\", StandardScaler()),\n",
    "        (\"pca\", PCA(n_components=5)),\n",
    "        (\"svc\", SVC(kernel=\"rbf\", random_state=42))\n",
    "    ]),\n",
    "    'LDA': Pipeline([\n",
    "        (\"scaler\", StandardScaler()),\n",
    "        (\"lda\", LDA()),\n",
    "        (\"svc\", SVC(kernel=\"rbf\", random_state=42))\n",
    "    ]),\n",
    "}\n",
    "\n",
    "# Hyperparameter-Raster\n",
    "param_grids = {\n",
    "    'PCA': {\n",
    "        \"svc__C\": [0.1, 1, 10, 100],\n",
    "        \"svc__gamma\": [0.001, 0.01, 0.1, 1]\n",
    "    },\n",
    "    'LDA': {\n",
    "        \"svc__C\": [0.1, 1, 10, 100, 200],\n",
    "        \"svc__gamma\": [0.001, 0.01, 0.1, 1]\n",
    "    },\n",
    "}"
   ],
   "id": "3ebe92faa41cf174",
   "outputs": [],
   "execution_count": 7
  },
  {
   "metadata": {},
   "cell_type": "markdown",
   "source": "Nach der Definition der grundlegenden Abläufe und Werte kann die eigentliche Hyperparameteroptimierung stattfinden. Dafür wird für jede Pipeline eine GridSearch mit 4-fold-Kreuzvalidierung durchgeführt und das beste Ergebnis zählt.",
   "id": "35fe5797bf74f12b"
  },
  {
   "metadata": {
    "ExecuteTime": {
     "end_time": "2024-12-17T23:52:19.492324Z",
     "start_time": "2024-12-17T23:52:06.691183Z"
    }
   },
   "cell_type": "code",
   "source": [
    "from sklearn.model_selection import GridSearchCV\n",
    "\n",
    "best_estimators = {}\n",
    "best_scores = {}\n",
    "\n",
    "for method, pipeline in pipelines.items():\n",
    "    print(f\"\\nStart training with {method} and hyperparameter optimisation...\")\n",
    "    grid_search = GridSearchCV(\n",
    "        estimator=pipeline,\n",
    "        param_grid=param_grids[method],\n",
    "        scoring=\"accuracy\",\n",
    "        cv=4,  # 4-Fold Cross Validation\n",
    "        verbose=1,\n",
    "        n_jobs=-1,  # Parallelise the processing of the folds\n",
    "    )\n",
    "    grid_search.fit(features, labels)\n",
    "    best_estimators[method] = grid_search.best_estimator_\n",
    "    best_scores[method] = grid_search.best_score_\n",
    "    print(f\"\\nBest parameters for {method}: {grid_search.best_params_}\")\n",
    "    print(f\"Best Cross Validation Avg Accuracy for {method}: {grid_search.best_score_:.4f}\")"
   ],
   "id": "58fe9bd9ce21dab0",
   "outputs": [
    {
     "name": "stdout",
     "output_type": "stream",
     "text": [
      "\n",
      "Start training with PCA and hyperparameter optimisation...\n",
      "Fitting 4 folds for each of 16 candidates, totalling 64 fits\n",
      "\n",
      "Best parameters for PCA: {'svc__C': 1, 'svc__gamma': 0.1}\n",
      "Best Cross Validation Avg Accuracy for PCA: 0.4055\n",
      "\n",
      "Start training with LDA and hyperparameter optimisation...\n",
      "Fitting 4 folds for each of 20 candidates, totalling 80 fits\n",
      "\n",
      "Best parameters for LDA: {'svc__C': 200, 'svc__gamma': 0.01}\n",
      "Best Cross Validation Avg Accuracy for LDA: 0.3321\n"
     ]
    }
   ],
   "execution_count": 8
  },
  {
   "metadata": {},
   "cell_type": "markdown",
   "source": [
    "Das Ergebnis der Analyse zeigt, dass die PCA besser abschneidet. Der optimale Hyperparameter $C = 1$ weist darauf hin, dass die SVM versucht, eine \"weiche\" Trennlinie zwischen den Klassen zu ziehen - das ist aufgrund der schwierigen Trennbarkeit der Daten ein gutes Zeichen. Das moderat gewählte $\\gamma = 0.1$ ermöglicht es der SVM, auf Details einzugehen, ohne zu sehr ins Overfitting zu kommen.\n",
    "\n",
    "Das auf diese Weise gefundene beste Modell wird nun als optimiertes Modell weiterverwendet und einer finalen Kreuzvalidierung unterzogen (die dasselbe Ergebnis haben wird wie zuvor, sofern immer noch 4 folds verwendet werden), um konkrete Werte für den Vergleich mit dem als nächstes implementierten k-Nearest-Neighbour-Klassifikator zu erhalten."
   ],
   "id": "2c883955413ea670"
  },
  {
   "metadata": {
    "ExecuteTime": {
     "end_time": "2024-12-17T23:52:19.686744Z",
     "start_time": "2024-12-17T23:52:19.529196Z"
    }
   },
   "cell_type": "code",
   "source": [
    "from sklearn.model_selection import cross_val_score\n",
    "\n",
    "optimised_model = best_estimators['PCA']\n",
    "\n",
    "cv_scores = cross_val_score(optimised_model, features, labels, cv=4, scoring=\"accuracy\")\n",
    "\n",
    "print(\"\\nResults of the Cross Validation:\")\n",
    "for fold_index, score in enumerate(cv_scores, 1):\n",
    "    print(f\"Fold {fold_index}: Accuracy = {score:.4f}\")\n",
    "\n",
    "print(\n",
    "    f\"\\nAverage Accuracy over all folds: {cv_scores.mean():.4f} ± {cv_scores.std():.4f}\"\n",
    ")"
   ],
   "id": "c767ce933fcb951f",
   "outputs": [
    {
     "name": "stdout",
     "output_type": "stream",
     "text": [
      "\n",
      "Results of the Cross Validation:\n",
      "Fold 1: Accuracy = 0.4293\n",
      "Fold 2: Accuracy = 0.3553\n",
      "Fold 3: Accuracy = 0.3909\n",
      "Fold 4: Accuracy = 0.4467\n",
      "\n",
      "Average Accuracy over all folds: 0.4055 ± 0.0353\n"
     ]
    }
   ],
   "execution_count": 9
  },
  {
   "metadata": {},
   "cell_type": "markdown",
   "source": [
    "## Implementierung des k-nearest-Neighbour-Klassifikators\n",
    "\n",
    "Zunächst wird der Klassifikator instanziiert und -- wie auch bei der SVM -- die Grid Search für die Hyperparameteroptimierung vorbereitet.\n",
    "Danach wird der Klassifikator mit den besten Parametern erneut kreuzvalidiert, um finale Ergebnisse für den Vergleich zu erhalten. Insgesamt ist der Prozess damit sehr ähnlich zur Erstellung und Hyperparameteroptimierung der SVM."
   ],
   "id": "9679605a1ef9f77b"
  },
  {
   "metadata": {
    "ExecuteTime": {
     "end_time": "2024-12-17T23:52:21.965658Z",
     "start_time": "2024-12-17T23:52:19.785618Z"
    }
   },
   "cell_type": "code",
   "source": [
    "from sklearn.neighbors import KNeighborsClassifier\n",
    "\n",
    "knn = KNeighborsClassifier(metric=\"manhattan\", weights=\"distance\", n_jobs=-1)\n",
    "param_grid_knn = {\n",
    "    \"n_neighbors\": [1, 3, 5, 7, 9, 11, 13, 15],\n",
    "}\n",
    "\n",
    "# Hyperparameter Optimisation\n",
    "print(\"\\nStart training with k-NN and hyperparameter optimisation...\")\n",
    "grid_search_knn = GridSearchCV(\n",
    "    estimator=knn,\n",
    "    param_grid=param_grid_knn,\n",
    "    scoring=\"accuracy\",\n",
    "    cv=4,  # 4-Fold Cross Validation\n",
    "    verbose=1,\n",
    "    n_jobs=-1,  # Parallelise processing\n",
    ")\n",
    "grid_search_knn.fit(features, labels)\n",
    "\n",
    "# Save the best model, parameters and values\n",
    "best_knn_model = grid_search_knn.best_estimator_\n",
    "best_knn_params = grid_search_knn.best_params_\n",
    "best_knn_score = grid_search_knn.best_score_\n",
    "\n",
    "# Print results of optimisation\n",
    "print(f\"\\nBest parameters for k-NN: {best_knn_params}\")\n",
    "print(f\"Best Cross Validation Avg Accuracy for k-NN: {best_knn_score:.4f}\")"
   ],
   "id": "2e7c4a847048036b",
   "outputs": [
    {
     "name": "stdout",
     "output_type": "stream",
     "text": [
      "\n",
      "Start training with k-NN and hyperparameter optimisation...\n",
      "Fitting 4 folds for each of 8 candidates, totalling 32 fits\n",
      "\n",
      "Best parameters for k-NN: {'n_neighbors': 13}\n",
      "Best Cross Validation Avg Accuracy for k-NN: 0.3764\n"
     ]
    }
   ],
   "execution_count": 10
  },
  {
   "metadata": {},
   "cell_type": "markdown",
   "source": "Wie bereits bei der Hyperparameteroptimierung der SVM hat sich auch beim k-Nearest-Neighbour-Klassifikator ein moderater Wert als optimal herausgestellt: Mit $k = 13$ werden genügend Nachbarn miteinbezogen, um ausreichende Stabilität gegen Ausreißer zu bieten, ohne stark zu Overfitting zu neigen.",
   "id": "1eb9a3e622abf2f"
  },
  {
   "metadata": {
    "ExecuteTime": {
     "end_time": "2024-12-18T00:00:32.126033Z",
     "start_time": "2024-12-18T00:00:32.068400Z"
    }
   },
   "cell_type": "code",
   "source": [
    "# Validate final model again (no different results expected than before when using 4 folds)\n",
    "cv_scores_knn = cross_val_score(\n",
    "    best_knn_model, features, labels, cv=4, scoring=\"accuracy\"\n",
    ")\n",
    "\n",
    "print(\"\\nResults of the Cross Validation for k-NN:\")\n",
    "for fold_index, score in enumerate(cv_scores_knn, 1):\n",
    "    print(f\"Fold {fold_index}: Accuracy = {score:.4f}\")\n",
    "\n",
    "print(\n",
    "    f\"\\nAverage Accuracy over all folds: {cv_scores_knn.mean():.4f} ± {cv_scores_knn.std():.4f}\"\n",
    ")"
   ],
   "id": "bc6727c398049187",
   "outputs": [
    {
     "name": "stdout",
     "output_type": "stream",
     "text": [
      "\n",
      "Results of the Cross Validation for k-NN:\n",
      "Fold 1: Accuracy = 0.4040\n",
      "Fold 2: Accuracy = 0.3706\n",
      "Fold 3: Accuracy = 0.3553\n",
      "Fold 4: Accuracy = 0.3756\n",
      "\n",
      "Average Accuracy over all folds: 0.3764 ± 0.0176\n"
     ]
    }
   ],
   "execution_count": 12
  },
  {
   "metadata": {},
   "cell_type": "markdown",
   "source": [
    "## Vergleich der Ergebnisse von SVM und k-NN-Klassifikator\n",
    "\n",
    "Die SVM schneidet in der 4-fold-Kreuzvalidierung nach der Hyperparameteroptimierung mit einer durchschnittlichen Genauigkeit von 40,5 % etwas besser ab als der k-Nearest-Neighbour-Klassifikator (37,6 %)."
   ],
   "id": "4bb19c73cd61e93f"
  }
 ],
 "metadata": {
  "kernelspec": {
   "name": "python3",
   "language": "python",
   "display_name": "Python 3 (ipykernel)"
  }
 },
 "nbformat": 5,
 "nbformat_minor": 9
}
