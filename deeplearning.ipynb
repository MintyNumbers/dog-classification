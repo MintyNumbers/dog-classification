{
 "cells": [
  {
   "cell_type": "markdown",
   "metadata": {},
   "source": [
    "# Klassifikation von Hunderassen mit einem Deep Learning Modell\n",
    "Dieses Notebook nutzt zur Klassifizierung von Hunderassen mithilfe eines Deep Learning Modells.\n",
    "\n",
    "## Datensatz laden\n",
    "Anmerkung: vor der Ausführung von Funktionen in diesem Notebook sollte die Train/Test Split Funktion im `svm.ipynb` Notebook ausgeführt werden."
   ]
  },
  {
   "cell_type": "code",
   "execution_count": null,
   "metadata": {},
   "outputs": [],
   "source": [
    "from helpers.dataloader import load_dataset\n",
    "from numpy.random import seed\n",
    "import tensorflow as tf\n",
    "\n",
    "# Setting random seeds\n",
    "seed(0)\n",
    "tf.random.set_seed(0)\n",
    "\n",
    "# Load Training and Testing data\n",
    "x_train, y_train = load_dataset(\"./dataset/Train/Images\")\n",
    "x_test, y_test = load_dataset(\"./dataset/Test/Images\")"
   ]
  },
  {
   "cell_type": "markdown",
   "metadata": {},
   "source": [
    "## Modell mit 3-Fold Kreuzvalidierung prüfen"
   ]
  },
  {
   "cell_type": "code",
   "execution_count": null,
   "metadata": {},
   "outputs": [],
   "source": [
    "from helpers.train import train_cnn_kfold\n",
    "\n",
    "# Evaluation with 3-Fold Cross Validation\n",
    "train_cnn_kfold(\n",
    "    x_train=x_train,\n",
    "    y_train=y_train,\n",
    "    x_test=x_test,\n",
    "    y_test=y_test,\n",
    "    epoch_per_kfold=20,\n",
    "    batch_size=8,\n",
    "    lr=3e-4,\n",
    "    regularization=1e-3,\n",
    "    sgd=False,\n",
    "    savedir=\"./results/kfolds-2\",\n",
    "    num_kfolds=5,\n",
    ")"
   ]
  },
  {
   "cell_type": "markdown",
   "metadata": {},
   "source": [
    "## Transfer learning with 5 new dog races"
   ]
  },
  {
   "cell_type": "code",
   "execution_count": null,
   "metadata": {},
   "outputs": [],
   "source": [
    "from helpers.train import train_cnn\n",
    "\n",
    "# Transfer learning\n",
    "_ = train_cnn(\n",
    "    x_train=x_train,\n",
    "    y_train=y_train,\n",
    "    x_test=x_test,\n",
    "    y_test=y_test,\n",
    "    epochs=10,\n",
    "    batch_size=8,\n",
    "    lr=3e-4,\n",
    "    regularization=1e-3,\n",
    "    sgd=False,\n",
    "    savepath=\"./results/model.keras\",\n",
    "    # loadpath=\"./results/num4-50ep.keras\",\n",
    ")"
   ]
  },
  {
   "cell_type": "code",
   "execution_count": null,
   "metadata": {},
   "outputs": [],
   "source": [
    "\"\"\"import matplotlib.pyplot as plt\n",
    "from numpy import argmax\n",
    "from keras.models import Sequential, load_model\n",
    "from seaborn import heatmap\n",
    "from sklearn.metrics import accuracy_score, confusion_matrix\n",
    "\n",
    "# Evaluate existing model\n",
    "model: Sequential = load_model(\"./results/kfolds/kfold-1.keras\")\n",
    "f = plt.figure(figsize=(15, 5))\n",
    "for data_type, x, y in [(\"Train\", x_train, y_train), (\"Test\", x_test, y_test)]:\n",
    "    # Calculate Confusion Matrix\n",
    "    y_true = argmax(y, 1)\n",
    "    y_pred = argmax(model.predict(x, verbose=0), 1)\n",
    "    cm = confusion_matrix(y_true, y_pred)\n",
    "\n",
    "    # Visualize\n",
    "    print(f\"{data_type} Images: {x.shape[0]},\\tAccuracy: {(accuracy_score(y_true, y_pred)*100):.4f}%\")\n",
    "    f.add_subplot(121 if data_type == \"Train\" else 122)\n",
    "    heatmap(cm, annot=True, fmt=\"d\", cmap=\"Blues\")\n",
    "    plt.title(f\"Confusion Matrix: {data_type}\")\n",
    "    plt.xlabel(\"Predicted\")\n",
    "    plt.ylabel(\"True\")\n",
    "\n",
    "plt.show()\"\"\""
   ]
  }
 ],
 "metadata": {
  "kernelspec": {
   "display_name": "tf",
   "language": "python",
   "name": "python3"
  },
  "language_info": {
   "codemirror_mode": {
    "name": "ipython",
    "version": 3
   },
   "file_extension": ".py",
   "mimetype": "text/x-python",
   "name": "python",
   "nbconvert_exporter": "python",
   "pygments_lexer": "ipython3",
   "version": "3.11.5"
  }
 },
 "nbformat": 4,
 "nbformat_minor": 2
}
